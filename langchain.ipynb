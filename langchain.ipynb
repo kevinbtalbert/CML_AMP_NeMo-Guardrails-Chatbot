{
  "cells": [
    {
      "cell_type": "code",
      "source": [
        "# !python --version   \n",
        "# !pip install langchain --upgrade\n",
        "# !conda install langchain -c conda-forge --y\n",
        "# Version: 0.0.149"
      ],
      "outputs": [],
      "execution_count": 1,
      "metadata": {
        "jupyter": {
          "outputs_hidden": false,
          "source_hidden": false
        },
        "nteract": {
          "transient": {
            "deleting": false
          }
        },
        "gather": {
          "logged": 1683777911228
        }
      }
    },
    {
      "cell_type": "code",
      "source": [
        "# !pip install openai --upgrade\n",
        "# !conda install openai -c conda-forge --y"
      ],
      "outputs": [],
      "execution_count": null,
      "metadata": {
        "gather": {
          "logged": 1683783528917
        }
      }
    },
    {
      "cell_type": "code",
      "source": [
        "OPENAI_API_KEY = ''\n",
        "OPENAI_API_BASE = 'https://xxx.openai.azure.com'\n",
        "OPENAI_API_TYPE = 'azure'\n",
        "OPENAI_API_VERSION = '2022-12-01' # 2023-03-15-preview\n",
        "PINECONE_API_KEY = ''\n",
        "PINECONE_API_ENV = 'us-west1-gcp-free'"
      ],
      "outputs": [],
      "execution_count": 1,
      "metadata": {
        "jupyter": {
          "source_hidden": false,
          "outputs_hidden": false
        },
        "nteract": {
          "transient": {
            "deleting": false
          }
        },
        "gather": {
          "logged": 1683783495145
        }
      }
    },
    {
      "cell_type": "code",
      "source": [
        "import openai\n",
        "\n",
        "openai.api_key = OPENAI_API_KEY\n",
        "openai.api_base = OPENAI_API_BASE\n",
        "openai.api_type = OPENAI_API_TYPE\n",
        "openai.api_version = OPENAI_API_VERSION\n",
        "\n",
        "# response = openai.Completion.create(\n",
        "#     engine=\"chat\",\n",
        "#     prompt=\"This is a test\",\n",
        "#     max_tokens=5\n",
        "# )"
      ],
      "outputs": [],
      "execution_count": 4,
      "metadata": {
        "gather": {
          "logged": 1683783550480
        }
      }
    },
    {
      "cell_type": "code",
      "source": [
        "# Import Azure OpenAI\n",
        "# from langchain.llms import AzureOpenAI"
      ],
      "outputs": [],
      "execution_count": null,
      "metadata": {
        "gather": {
          "logged": 1683106916213
        }
      }
    },
    {
      "cell_type": "code",
      "source": [
        "# Replace the deployment name with your own\n",
        "# llm = AzureOpenAI(\n",
        "#     deployment_name=\"text-embedding-ada-002\", \n",
        "#     model_name=\"text-embedding-ada-002\", \n",
        "#     openai_api_key=OPENAI_API_KEY\n",
        "# )"
      ],
      "outputs": [],
      "execution_count": null,
      "metadata": {
        "gather": {
          "logged": 1683109318660
        }
      }
    },
    {
      "cell_type": "code",
      "source": [
        "# Run the LLM\n",
        "# llm(\"Tell me a joke\")"
      ],
      "outputs": [],
      "execution_count": null,
      "metadata": {
        "gather": {
          "logged": 1683109326381
        }
      }
    },
    {
      "cell_type": "code",
      "source": [
        "# print(llm)"
      ],
      "outputs": [],
      "execution_count": null,
      "metadata": {}
    },
    {
      "cell_type": "code",
      "source": [
        "from langchain.document_loaders import UnstructuredPDFLoader, OnlinePDFLoader\n",
        "from langchain.text_splitter import RecursiveCharacterTextSplitter"
      ],
      "outputs": [],
      "execution_count": 5,
      "metadata": {
        "jupyter": {
          "outputs_hidden": false,
          "source_hidden": false
        },
        "nteract": {
          "transient": {
            "deleting": false
          }
        },
        "gather": {
          "logged": 1683783557929
        }
      }
    },
    {
      "cell_type": "markdown",
      "source": [
        "## Load your data"
      ],
      "metadata": {
        "nteract": {
          "transient": {
            "deleting": false
          }
        }
      }
    },
    {
      "cell_type": "code",
      "source": [
        "# loader = UnstructuredPDFLoader(\"../data/field-guide-to-data-science.pdf\")\n",
        "loader = OnlinePDFLoader(\"https://github.com/Azure-Samples/azure-search-openai-demo/raw/main/data/Northwind_Standard_Benefits_Details.pdf\")"
      ],
      "outputs": [],
      "execution_count": 6,
      "metadata": {
        "jupyter": {
          "outputs_hidden": false,
          "source_hidden": false
        },
        "nteract": {
          "transient": {
            "deleting": false
          }
        },
        "gather": {
          "logged": 1683783560607
        }
      }
    },
    {
      "cell_type": "code",
      "source": [
        "# !pip install unstructured\n",
        "# !pip install pdfminer.six"
      ],
      "outputs": [],
      "execution_count": null,
      "metadata": {
        "jupyter": {
          "source_hidden": false,
          "outputs_hidden": false
        },
        "nteract": {
          "transient": {
            "deleting": false
          }
        },
        "gather": {
          "logged": 1683119284515
        }
      }
    },
    {
      "cell_type": "code",
      "source": [
        "data = loader.load()"
      ],
      "outputs": [],
      "execution_count": 7,
      "metadata": {
        "jupyter": {
          "source_hidden": false,
          "outputs_hidden": false
        },
        "nteract": {
          "transient": {
            "deleting": false
          }
        },
        "gather": {
          "logged": 1683120738974
        }
      }
    },
    {
      "cell_type": "code",
      "source": [
        "print (f'You have {len(data)} document(s) in your data')\n",
        "print (f'There are {len(data[0].page_content)} characters in your document')"
      ],
      "outputs": [],
      "execution_count": null,
      "metadata": {
        "jupyter": {
          "source_hidden": false,
          "outputs_hidden": false
        },
        "nteract": {
          "transient": {
            "deleting": false
          }
        },
        "gather": {
          "logged": 1683120740528
        }
      }
    },
    {
      "cell_type": "code",
      "source": [
        "text_splitter = RecursiveCharacterTextSplitter(chunk_size=1000, chunk_overlap=0)\n",
        "texts = text_splitter.split_documents(data)"
      ],
      "outputs": [],
      "execution_count": null,
      "metadata": {
        "jupyter": {
          "source_hidden": false,
          "outputs_hidden": false
        },
        "nteract": {
          "transient": {
            "deleting": false
          }
        },
        "gather": {
          "logged": 1683120743874
        }
      }
    },
    {
      "cell_type": "code",
      "source": [
        "print (f'Now you have {len(texts)} documents')"
      ],
      "outputs": [],
      "execution_count": null,
      "metadata": {
        "jupyter": {
          "source_hidden": false,
          "outputs_hidden": false
        },
        "nteract": {
          "transient": {
            "deleting": false
          }
        },
        "gather": {
          "logged": 1683120746009
        }
      }
    },
    {
      "cell_type": "code",
      "source": [
        "# !pip install pinecone-client"
      ],
      "outputs": [],
      "execution_count": null,
      "metadata": {
        "jupyter": {
          "source_hidden": false,
          "outputs_hidden": false
        },
        "nteract": {
          "transient": {
            "deleting": false
          }
        }
      }
    },
    {
      "cell_type": "code",
      "source": [
        "from langchain.vectorstores import Pinecone\n",
        "from langchain.embeddings.openai import OpenAIEmbeddings\n",
        "import pinecone"
      ],
      "outputs": [],
      "execution_count": null,
      "metadata": {
        "jupyter": {
          "source_hidden": false,
          "outputs_hidden": false
        },
        "nteract": {
          "transient": {
            "deleting": false
          }
        },
        "gather": {
          "logged": 1683120748762
        }
      }
    },
    {
      "cell_type": "code",
      "source": [
        "embeddings = OpenAIEmbeddings(\n",
        "    openai_api_key=OPENAI_API_KEY, \n",
        "    openai_api_base=OPENAI_API_BASE, \n",
        "    openai_api_type=OPENAI_API_TYPE, \n",
        "    openai_api_version=OPENAI_API_VERSION,\n",
        "    chunk_size=1\n",
        ")"
      ],
      "outputs": [],
      "execution_count": null,
      "metadata": {
        "jupyter": {
          "source_hidden": false,
          "outputs_hidden": false
        },
        "nteract": {
          "transient": {
            "deleting": false
          }
        },
        "gather": {
          "logged": 1683120750152
        }
      }
    },
    {
      "cell_type": "code",
      "source": [
        "# initialize pinecone\n",
        "pinecone.init(\n",
        "    api_key=PINECONE_API_KEY,  # find at app.pinecone.io\n",
        "    environment=PINECONE_API_ENV  # next to api key in console\n",
        ")\n",
        "index_name = \"openaidemo\" # put in the name of your pinecone index here\n"
      ],
      "outputs": [],
      "execution_count": null,
      "metadata": {
        "jupyter": {
          "source_hidden": false,
          "outputs_hidden": false
        },
        "nteract": {
          "transient": {
            "deleting": false
          }
        },
        "gather": {
          "logged": 1683120752833
        }
      }
    },
    {
      "cell_type": "code",
      "source": [
        "# !pip install tiktoken"
      ],
      "outputs": [],
      "execution_count": null,
      "metadata": {
        "jupyter": {
          "source_hidden": false,
          "outputs_hidden": false
        },
        "nteract": {
          "transient": {
            "deleting": false
          }
        },
        "gather": {
          "logged": 1683108465660
        }
      }
    },
    {
      "cell_type": "code",
      "source": [
        "docsearch = Pinecone.from_texts([t.page_content for t in texts], embeddings, index_name=index_name)"
      ],
      "outputs": [],
      "execution_count": null,
      "metadata": {
        "jupyter": {
          "source_hidden": false,
          "outputs_hidden": false
        },
        "nteract": {
          "transient": {
            "deleting": false
          }
        },
        "gather": {
          "logged": 1683120816501
        }
      }
    },
    {
      "cell_type": "code",
      "source": [
        "query = \"what is included in my health benefit\"\n",
        "docs = docsearch.similarity_search(query, include_metadata=True)"
      ],
      "outputs": [],
      "execution_count": null,
      "metadata": {
        "jupyter": {
          "source_hidden": false,
          "outputs_hidden": false
        },
        "nteract": {
          "transient": {
            "deleting": false
          }
        },
        "gather": {
          "logged": 1683120851109
        }
      }
    },
    {
      "cell_type": "code",
      "source": [
        "# Here's an example of the first document that was returned\n",
        "docs[0].page_content[:250]"
      ],
      "outputs": [],
      "execution_count": null,
      "metadata": {
        "jupyter": {
          "source_hidden": false,
          "outputs_hidden": false
        },
        "nteract": {
          "transient": {
            "deleting": false
          }
        },
        "gather": {
          "logged": 1683120853048
        }
      }
    },
    {
      "cell_type": "code",
      "source": [
        "from langchain.llms import OpenAI\n",
        "# from langchain.llms import AzureOpenAI\n",
        "from langchain.chains.question_answering import load_qa_chain"
      ],
      "outputs": [],
      "execution_count": null,
      "metadata": {
        "jupyter": {
          "source_hidden": false,
          "outputs_hidden": false
        },
        "nteract": {
          "transient": {
            "deleting": false
          }
        },
        "gather": {
          "logged": 1683120858764
        }
      }
    },
    {
      "cell_type": "code",
      "source": [
        "# llm = OpenAI(\n",
        "#     temperature=0,\n",
        "#     openai_api_key=OPENAI_API_KEY,\n",
        "#     openai_api_base=OPENAI_API_BASE,\n",
        "#     model_name = \"text-davinci-003\",\n",
        "#     deployment_id = \"davinci\",\n",
        "#     max_tokens=100\n",
        "# )\n",
        "llm = AzureOpenAI(\n",
        "    deployment_name=\"davinci\",\n",
        "    model_name=\"text-davinci-003\", \n",
        "    openai_api_key=OPENAI_API_KEY\n",
        ")\n",
        "chain = load_qa_chain(llm, chain_type=\"stuff\")"
      ],
      "outputs": [],
      "execution_count": null,
      "metadata": {
        "jupyter": {
          "source_hidden": false,
          "outputs_hidden": false
        },
        "nteract": {
          "transient": {
            "deleting": false
          }
        },
        "gather": {
          "logged": 1683120861818
        }
      }
    },
    {
      "cell_type": "code",
      "source": [
        "# query = \"What is the collect stage of data maturity?\"\n",
        "docs = docsearch.similarity_search(query, include_metadata=True)"
      ],
      "outputs": [],
      "execution_count": null,
      "metadata": {
        "jupyter": {
          "source_hidden": false,
          "outputs_hidden": false
        },
        "nteract": {
          "transient": {
            "deleting": false
          }
        },
        "gather": {
          "logged": 1683120871726
        }
      }
    },
    {
      "cell_type": "code",
      "source": [
        "print(llm(query))"
      ],
      "outputs": [],
      "execution_count": null,
      "metadata": {
        "jupyter": {
          "source_hidden": false,
          "outputs_hidden": false
        },
        "nteract": {
          "transient": {
            "deleting": false
          }
        },
        "gather": {
          "logged": 1683120991651
        }
      }
    },
    {
      "cell_type": "code",
      "source": [
        "chain.run(input_documents=docs, question=query)"
      ],
      "outputs": [],
      "execution_count": null,
      "metadata": {
        "jupyter": {
          "source_hidden": false,
          "outputs_hidden": false
        },
        "nteract": {
          "transient": {
            "deleting": false
          }
        },
        "gather": {
          "logged": 1683120877119
        }
      }
    }
  ],
  "metadata": {
    "kernelspec": {
      "name": "python38-azureml",
      "language": "python",
      "display_name": "Python 3.8 - AzureML"
    },
    "language_info": {
      "name": "python",
      "version": "3.8.5",
      "mimetype": "text/x-python",
      "codemirror_mode": {
        "name": "ipython",
        "version": 3
      },
      "pygments_lexer": "ipython3",
      "nbconvert_exporter": "python",
      "file_extension": ".py"
    },
    "microsoft": {
      "ms_spell_check": {
        "ms_spell_check_language": "en"
      },
      "host": {
        "AzureML": {
          "notebookHasBeenCompleted": true
        }
      }
    },
    "nteract": {
      "version": "nteract-front-end@1.0.0"
    },
    "kernel_info": {
      "name": "python38-azureml"
    }
  },
  "nbformat": 4,
  "nbformat_minor": 2
}